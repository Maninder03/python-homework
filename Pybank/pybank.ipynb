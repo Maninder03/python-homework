{
 "cells": [
  {
   "cell_type": "code",
   "execution_count": null,
   "id": "f2a09848-634a-488d-b75a-66c62f7e0417",
   "metadata": {},
   "outputs": [],
   "source": [
    "import pandas as pd\n",
    "from pathlib import Path\n",
    "\n",
    "csvpath = Path('/Users/manindersandhu/Downloads/budget_data.csv')\n",
    "\n",
    "budget_data = pd.read_csv(csvpath)\n",
    "Total_PL = budget_data ['Profit/Losses'].diff()\n",
    "\n",
    "Total_Months = budget_data ['Date'].count()\n",
    "Net_PL = budget_data ['Profit/Losses'].sum()\n",
    "Average_Change = Total_PL.mean()\n",
    "\n",
    "Greatest_Increase = str(Total_PL.max()) + str (budget_data.loc[Total_PL.idxmax(), 'Date'])\n",
    "Greatest_Decrease = str(Total_PL.min()) + str (budget_data.loc[Total_PL.idxmin(), 'Date'])\n",
    "\n",
    "print ('\\n\\nFinancial Analysis')\n",
    "\n",
    "print ('------------------------')\n",
    "\n",
    "print (f'Total Months: {Total_Months}')\n",
    "\n",
    "print (f'Total: ${Net_PL}')\n",
    "\n",
    "print (f'Average Change: ${Average_Change}')\n",
    "\n",
    "print (f'Greatest Increase in Profits: {Greatest_Increase}')\n",
    "\n",
    "print (f'Greatest Decrease in Profits:{Greatest_Decrease}')\n"
   ]
  }
 ],
 "metadata": {
  "kernelspec": {
   "display_name": "Python 3",
   "language": "python",
   "name": "python3"
  },
  "language_info": {
   "codemirror_mode": {
    "name": "ipython",
    "version": 3
   },
   "file_extension": ".py",
   "mimetype": "text/x-python",
   "name": "python",
   "nbconvert_exporter": "python",
   "pygments_lexer": "ipython3",
   "version": "3.8.5"
  }
 },
 "nbformat": 4,
 "nbformat_minor": 5
}
